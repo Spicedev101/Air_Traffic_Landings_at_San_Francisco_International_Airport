{
 "cells": [
  {
   "cell_type": "markdown",
   "id": "ee49e204-7fc5-43ea-8082-e2e9a58a7006",
   "metadata": {},
   "source": [
    "# Exploring Air Traffic Landings at San Francisco International Airport"
   ]
  },
  {
   "cell_type": "markdown",
   "id": "7968c3e2-af88-4cde-b832-65ee0fb592ce",
   "metadata": {},
   "source": [
    "# Introduction\n",
    "\n",
    "Aircraft landing data can provide many insights into an airport's operations. This project seeks to explore air traffic landing data for the San Francisco International Airport (SFO) to gain insights into the airport's operations, capacity needs, and potential areas for operational improvement."
   ]
  },
  {
   "cell_type": "code",
   "execution_count": null,
   "id": "c4f37205-0db3-42c8-8a6a-52bb31ce622a",
   "metadata": {},
   "outputs": [],
   "source": [
    "# Objectivies"
   ]
  }
 ],
 "metadata": {
  "kernelspec": {
   "display_name": "Python 3 (ipykernel)",
   "language": "python",
   "name": "python3"
  },
  "language_info": {
   "codemirror_mode": {
    "name": "ipython",
    "version": 3
   },
   "file_extension": ".py",
   "mimetype": "text/x-python",
   "name": "python",
   "nbconvert_exporter": "python",
   "pygments_lexer": "ipython3",
   "version": "3.11.4"
  }
 },
 "nbformat": 4,
 "nbformat_minor": 5
}
